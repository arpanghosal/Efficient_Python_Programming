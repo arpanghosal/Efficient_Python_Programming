{
  "nbformat": 4,
  "nbformat_minor": 0,
  "metadata": {
    "colab": {
      "provenance": [],
      "gpuType": "T4"
    },
    "kernelspec": {
      "name": "python3",
      "display_name": "Python 3"
    },
    "language_info": {
      "name": "python"
    },
    "accelerator": "GPU"
  },
  "cells": [
    {
      "cell_type": "code",
      "execution_count": 2,
      "metadata": {
        "id": "oWab3hu0bUjP"
      },
      "outputs": [],
      "source": [
        "import jax.numpy as jnp\n",
        "from jax import jit, random"
      ]
    },
    {
      "cell_type": "code",
      "source": [
        "import jax.numpy as jnp\n",
        "from jax import jit, random, lax\n",
        "\n",
        "def mandelbrot(c, max_iters=256, threshold=2):\n",
        "    \"\"\"\n",
        "    Computes the number of iterations to determine if a complex number c\n",
        "    is in the Mandelbrot set, considering a max_iters limit and escape threshold.\n",
        "    \"\"\"\n",
        "    def body_fun(val):\n",
        "        i, z = val\n",
        "        return i + 1, z * z + c\n",
        "\n",
        "    def cond_fun(val):\n",
        "        i, z = val\n",
        "        return (i < max_iters) & (jnp.abs(z) <= threshold)\n",
        "\n",
        "    # Initialize the loop variables\n",
        "    initial_state = (0, 0.0 + 0.0j)  # start with z = 0 + 0j\n",
        "    result = lax.while_loop(cond_fun, body_fun, initial_state)\n",
        "\n",
        "    # Final number of iterations and the last value of z\n",
        "    num_iters, z_final = result\n",
        "\n",
        "    # If z is within the threshold after max_iters, consider it inside the set\n",
        "    return jnp.where(jnp.abs(z_final) <= threshold, max_iters, num_iters)\n",
        "\n",
        "\"\"\"\n",
        "    _, z_final = lax.while_loop(cond_fun, body_fun, (0, 0.0))\n",
        "    return jnp.where(jnp.abs(z_final) <= threshold, max_iters, _)\n",
        "\"\"\"\n",
        "\n",
        "\n",
        "# JIT compile the function to optimize performance\n",
        "mandelbrot_jit = jit(mandelbrot, static_argnums=(1, 2))\n",
        "\n",
        "def estimate_mandelbrot_area(samples=100000, seed=0):\n",
        "    \"\"\"\n",
        "    Estimates the area of the Mandelbrot set by sampling points in the complex plane,\n",
        "    using Monte Carlo method.\n",
        "    \"\"\"\n",
        "    # Generate random samples in the complex plane\n",
        "    key = random.PRNGKey(seed)\n",
        "    real = random.uniform(key, (samples,), minval=-2.0, maxval=1.0)\n",
        "    imag = random.uniform(key, (samples,), minval=-1.5, maxval=1.5)\n",
        "    c = real + 1j * imag\n",
        "\n",
        "    # Apply the JIT-compiled Mandelbrot function to each point individually\n",
        "    results = jnp.array([mandelbrot_jit(ci) for ci in c])\n",
        "    #print(results[-50:-1])\n",
        "    inside = jnp.mean(results == 256)  # Count how many are considered inside\n",
        "\n",
        "    # Estimate area (scale by the area of the rectangle sampled)\n",
        "    area = 3.0 * 3.0 * inside  # Area of the rectangle is 3 x 3\n",
        "    return area\n",
        "\n",
        "# Call the function and print the estimated area\n",
        "area = estimate_mandelbrot_area()\n",
        "print(\"Estimated area of the Mandelbrot set:\", area)\n"
      ],
      "metadata": {
        "colab": {
          "base_uri": "https://localhost:8080/"
        },
        "id": "M4WlQLhOchNm",
        "outputId": "d6c5180e-8981-4d64-f61c-dcd7c273f8e9"
      },
      "execution_count": 1,
      "outputs": [
        {
          "output_type": "stream",
          "name": "stdout",
          "text": [
            "Estimated area of the Mandelbrot set: 2.56563\n"
          ]
        }
      ]
    },
    {
      "cell_type": "code",
      "source": [
        "from numba import cuda\n",
        "\n",
        "# Check if a CUDA GPU is available\n",
        "if cuda.is_available():\n",
        "    print(\"CUDA is available. GPU:\", cuda.gpus)\n",
        "else:\n",
        "    print(\"CUDA is not available.\")\n"
      ],
      "metadata": {
        "colab": {
          "base_uri": "https://localhost:8080/"
        },
        "id": "2Lw4JCiXdH-3",
        "outputId": "38681639-88d1-4c04-d3f7-e75135f565ec"
      },
      "execution_count": 2,
      "outputs": [
        {
          "output_type": "stream",
          "name": "stdout",
          "text": [
            "CUDA is available. GPU: <Managed Device 0>\n"
          ]
        }
      ]
    },
    {
      "cell_type": "code",
      "source": [
        "from numba import cuda\n",
        "print(cuda.gpus)\n"
      ],
      "metadata": {
        "colab": {
          "base_uri": "https://localhost:8080/"
        },
        "id": "gTNVRqXPlhZG",
        "outputId": "3473e931-492e-4342-9c16-1313bb755032"
      },
      "execution_count": 3,
      "outputs": [
        {
          "output_type": "stream",
          "name": "stdout",
          "text": [
            "<Managed Device 0>\n"
          ]
        }
      ]
    },
    {
      "cell_type": "code",
      "source": [
        "from numba import cuda\n",
        "import numpy as np\n",
        "import math\n",
        "\n",
        "# Define the maximum number of iterations and the escape radius squared (4 for a radius of 2)\n",
        "MAX_ITERS = 1024         # 1024 iterations bound\n",
        "ESCAPE_RADIUS_SQ = 4.0\n",
        "\n",
        "@cuda.jit\n",
        "def mandelbrot_kernel(real, imag, output):\n",
        "    \"\"\"\n",
        "    CUDA kernel to compute Mandelbrot membership.\n",
        "    This kernel calculates whether each point in a grid of complex numbers\n",
        "    belongs to the Mandelbrot set.\n",
        "    \"\"\"\n",
        "    idx = cuda.grid(1)  # Compute the flat index within the array\n",
        "    if idx < real.size:  # Check if index is within the bounds of the array\n",
        "        c_real = real[idx]\n",
        "        c_imag = imag[idx]\n",
        "        z_real = 0.0\n",
        "        z_imag = 0.0\n",
        "        for n in range(MAX_ITERS):\n",
        "            z_real2 = z_real * z_real\n",
        "            z_imag2 = z_imag * z_imag\n",
        "            if z_real2 + z_imag2 > ESCAPE_RADIUS_SQ:\n",
        "                output[idx] = n\n",
        "                break\n",
        "            z_imag = 2.0 * z_real * z_imag + c_imag\n",
        "            z_real = z_real2 - z_imag2 + c_real\n",
        "        else:\n",
        "            output[idx] = MAX_ITERS\n",
        "\n",
        "def estimate_mandelbrot_area(samples=10_000_000, seed=0): # 10M seems to be the bound\n",
        "    \"\"\"\n",
        "    Estimates the area of the Mandelbrot set by sampling points in the complex plane\n",
        "    and using a Monte Carlo method.\n",
        "    \"\"\"\n",
        "    print(\"Generating random samples...\")\n",
        "    np.random.seed(seed)\n",
        "    real = np.random.uniform(-2.0, 1.0, samples).astype(np.float32)\n",
        "    imag = np.random.uniform(-1.5, 1.5, samples).astype(np.float32)\n",
        "\n",
        "    print(\"Allocating output array...\")\n",
        "    output = np.zeros_like(real, dtype=np.int32)\n",
        "\n",
        "    # Calculate the number of threads per block and blocks per grid\n",
        "    threads_per_block = 1024\n",
        "    blocks_per_grid = math.ceil(samples / threads_per_block)\n",
        "    print(f\"Launching CUDA kernel with {blocks_per_grid} blocks and {threads_per_block} threads per block...\")\n",
        "\n",
        "    # Launch the kernel\n",
        "    mandelbrot_kernel[blocks_per_grid, threads_per_block](real, imag, output)\n",
        "\n",
        "    # Analyze the results to estimate the area\n",
        "    print(\"Analyzing results...\")\n",
        "    inside = np.sum(output == MAX_ITERS) / samples\n",
        "    area = 3.0 * 3.0 * inside  # Scale by the area of the rectangle sampled\n",
        "    return area\n",
        "\n",
        "# Call the function and print the estimated area\n",
        "area = estimate_mandelbrot_area()\n",
        "print(f\"Estimated area of the Mandelbrot set: {area:.7f}\")\n"
      ],
      "metadata": {
        "colab": {
          "base_uri": "https://localhost:8080/"
        },
        "id": "ypYdfaZYlxOZ",
        "outputId": "f8e3a79d-da7b-4c22-e453-c22b7958602c"
      },
      "execution_count": 15,
      "outputs": [
        {
          "output_type": "stream",
          "name": "stdout",
          "text": [
            "Generating random samples...\n",
            "Allocating output array...\n",
            "Launching CUDA kernel with 9766 blocks and 1024 threads per block...\n"
          ]
        },
        {
          "output_type": "stream",
          "name": "stderr",
          "text": [
            "/usr/local/lib/python3.10/dist-packages/numba/cuda/cudadrv/devicearray.py:888: NumbaPerformanceWarning: Host array used in CUDA kernel will incur copy overhead to/from device.\n",
            "  warn(NumbaPerformanceWarning(msg))\n"
          ]
        },
        {
          "output_type": "stream",
          "name": "stdout",
          "text": [
            "Analyzing results...\n",
            "Estimated area of the Mandelbrot set: 1.5100200\n"
          ]
        }
      ]
    },
    {
      "cell_type": "code",
      "source": [
        "from numba import cuda\n",
        "import numpy as np\n",
        "import math\n",
        "\n",
        "MAX_ITERS = 256\n",
        "ESCAPE_RADIUS_SQ = 4.0\n",
        "\n",
        "@cuda.jit\n",
        "def mandelbrot_kernel(real, imag, output):\n",
        "    idx = cuda.grid(1)\n",
        "    if idx < real.size:\n",
        "        c_real = real[idx]\n",
        "        c_imag = imag[idx]\n",
        "        z_real = 0.0\n",
        "        z_imag = 0.0\n",
        "        for n in range(MAX_ITERS):\n",
        "            z_real2 = z_real * z_real\n",
        "            z_imag2 = z_imag * z_imag\n",
        "            if z_real2 + z_imag2 > ESCAPE_RADIUS_SQ:\n",
        "                output[idx] = n\n",
        "                break\n",
        "            z_imag = 2.0 * z_real * z_imag + c_imag\n",
        "            z_real = z_real2 - z_imag2 + c_real\n",
        "        else:\n",
        "            output[idx] = MAX_ITERS\n",
        "\n",
        "def estimate_mandelbrot_area(samples=1000000, seed=0, n_resamples=1000):\n",
        "    np.random.seed(seed)\n",
        "    real = np.random.uniform(-2.0, 1.0, samples).astype(np.float32)\n",
        "    imag = np.random.uniform(-1.5, 1.5, samples).astype(np.float32)\n",
        "\n",
        "    output = np.zeros_like(real, dtype=np.int32)\n",
        "    threads_per_block = 256\n",
        "    blocks_per_grid = math.ceil(samples / threads_per_block)\n",
        "\n",
        "    areas = np.zeros(n_resamples, dtype=np.float32)\n",
        "\n",
        "    for i in range(n_resamples):\n",
        "        # Resampling with replacement\n",
        "        indices = np.random.choice(samples, samples, replace=True)\n",
        "        sampled_real = real[indices]\n",
        "        sampled_imag = imag[indices]\n",
        "\n",
        "        # Launch kernel\n",
        "        mandelbrot_kernel[blocks_per_grid, threads_per_block](sampled_real, sampled_imag, output)\n",
        "\n",
        "        # Calculate area\n",
        "        inside = np.sum(output == MAX_ITERS) / samples\n",
        "        areas[i] = 3.0 * 3.0 * inside\n",
        "\n",
        "    mean_area = np.mean(areas)\n",
        "    std_deviation = np.std(areas)\n",
        "\n",
        "    return mean_area, std_deviation\n",
        "\n",
        "# Example usage\n",
        "mean_area, uncertainty = estimate_mandelbrot_area()\n",
        "print(f\"Estimated area of the Mandelbrot set: {mean_area:.6f} ± {uncertainty:.6f}\")\n"
      ],
      "metadata": {
        "colab": {
          "base_uri": "https://localhost:8080/"
        },
        "id": "wsOzwRK3mQWz",
        "outputId": "9f0e79b5-7ff9-4261-bb1b-810a13fbd4bb"
      },
      "execution_count": 17,
      "outputs": [
        {
          "output_type": "stream",
          "name": "stderr",
          "text": [
            "/usr/local/lib/python3.10/dist-packages/numba/cuda/cudadrv/devicearray.py:888: NumbaPerformanceWarning: Host array used in CUDA kernel will incur copy overhead to/from device.\n",
            "  warn(NumbaPerformanceWarning(msg))\n"
          ]
        },
        {
          "output_type": "stream",
          "name": "stdout",
          "text": [
            "Estimated area of the Mandelbrot set: 1.514171 ± 0.003348\n"
          ]
        }
      ]
    },
    {
      "cell_type": "code",
      "source": [],
      "metadata": {
        "id": "xYFTFcqKn5Nd"
      },
      "execution_count": null,
      "outputs": []
    }
  ]
}