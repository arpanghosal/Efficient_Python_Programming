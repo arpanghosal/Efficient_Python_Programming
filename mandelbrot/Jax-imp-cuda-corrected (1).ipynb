{
 "cells": [
  {
   "cell_type": "code",
   "execution_count": null,
   "id": "f2ea618e-04ab-47e3-a47e-83a89cde78ea",
   "metadata": {},
   "outputs": [],
   "source": [
    "import matplotlib\n",
    "import matplotlib.pyplot as plt\n",
    "import numpy as np\n",
    "import numba as nb\n",
    "\n",
    "from utils import (\n",
    "    combine_uncertaintes,\n",
    "    plot_pixels,\n",
    "    confidence_interval,\n",
    "    wald_uncertainty,\n",
    ")\n",
    "\n",
    "# ignore deprecation warnings from numba for now\n",
    "from numba.core.errors import NumbaDeprecationWarning, NumbaPendingDeprecationWarning\n",
    "import warnings\n",
    "\n",
    "warnings.simplefilter(\"ignore\", category=NumbaDeprecationWarning)\n",
    "warnings.simplefilter(\"ignore\", category=NumbaPendingDeprecationWarning)"
   ]
  },
  {
   "cell_type": "code",
   "execution_count": null,
   "id": "1e68e74c-a364-4ebd-a02a-ea4d23197693",
   "metadata": {},
   "outputs": [],
   "source": [
    "\n",
    "from numba import cuda\n",
    "import numpy as np\n",
    "\n",
    "@cuda.jit\n",
    "def is_in_mandelbrot(x, y, output):\n",
    "    \"\"\"CUDA kernel to check if point (x, y) is in the Mandelbrot set.\"\"\"\n",
    "    i = cuda.grid(1)\n",
    "    if i < x.size:\n",
    "        c = np.complex64(x[i]) + np.complex64(y[i]) * np.complex64(1j)\n",
    "        z_hare = z_tortoise = np.complex64(0)\n",
    "        while True:\n",
    "            z_hare = z_hare * z_hare + c\n",
    "            z_hare = z_hare * z_hare + c  # hare does one step more\n",
    "            z_tortoise = z_tortoise * z_tortoise + c  # tortoise is one step behind\n",
    "            if z_hare == z_tortoise:\n",
    "                output[i] = True\n",
    "                break\n",
    "            if z_hare.real**2 + z_hare.imag**2 > 4:\n",
    "                output[i] = False\n",
    "                break\n"
   ]
  },
  {
   "cell_type": "code",
   "execution_count": null,
   "id": "39d80685-8b51-4925-a508-f28fa99bef4d",
   "metadata": {},
   "outputs": [],
   "source": [
    "\n",
    "from numba import cuda\n",
    "import numpy as np\n",
    "\n",
    "@cuda.jit\n",
    "def draw_mandelbrot(num_x, num_y, xmin, xmax, ymin, ymax, pixels):\n",
    "    \"\"\"Generate Mandelbrot set inside Knill limits using CUDA.\"\"\"\n",
    "    i, j = cuda.grid(2)\n",
    "    if i < num_x and j < num_y:\n",
    "        x = xmin + i * (xmax - xmin) / num_x\n",
    "        y = ymin + j * (ymax - ymin) / num_y\n",
    "        c = x + y * 1j\n",
    "        z_hare = z_tortoise = 0 + 0j\n",
    "        while True:\n",
    "            z_hare = z_hare * z_hare + c\n",
    "            z_hare = z_hare * z_hare + c\n",
    "            z_tortoise = z_tortoise * z_tortoise + c\n",
    "            if z_hare == z_tortoise:\n",
    "                pixels[i, j] = 1\n",
    "                break\n",
    "            if z_hare.real**2 + z_hare.imag**2 > 4:\n",
    "                pixels[i, j] = 0\n",
    "                break\n",
    "\n",
    "# Define constants for the limits\n",
    "xmin, xmax = -2, 1\n",
    "ymin, ymax = -3 / 2, 3 / 2\n",
    "\n",
    "# Setup and run the CUDA kernel\n",
    "num_x, num_y = 1024, 1024\n",
    "pixels = np.zeros((num_x, num_y), dtype=np.int32)\n",
    "\n",
    "threadsperblock = (16, 16)\n",
    "blockspergrid_x = (num_x + threadsperblock[0] - 1) // threadsperblock[0]\n",
    "blockspergrid_y = (num_y + threadsperblock[1] - 1) // threadsperblock[1]\n",
    "blockspergrid = (blockspergrid_x, blockspergrid_y)\n",
    "\n",
    "draw_mandelbrot[blockspergrid, threadsperblock](num_x, num_y, xmin, xmax, ymin, ymax, pixels)"
   ]
  },
  {
   "cell_type": "code",
   "execution_count": null,
   "id": "6d02ac2e-b8ed-4e12-bf24-7d7e3195aaa1",
   "metadata": {},
   "outputs": [],
   "source": [
    "pixels = draw_mandelbrot(1000, 1000)\n",
    "fig, _, _ = plot_pixels(pixels, dpi=80)"
   ]
  },
  {
   "cell_type": "code",
   "execution_count": null,
   "id": "b7038fa6-8395-480a-9f09-e0b8d5e9693b",
   "metadata": {},
   "outputs": [],
   "source": [
    "@nb.jit\n",
    "def count_mandelbrot(rng, num_samples, xmin, width, ymin, height):\n",
    "    \"\"\"Draw num_samples random numbers uniformly between (xmin, xmin+width)\n",
    "    and (ymin, ymin+height).\n",
    "    Raise `out` by one if the number is part of the Mandelbrot set.\n",
    "    \"\"\"\n",
    "    out = np.int32(0)\n",
    "    for x_norm, y_norm in rng.random((num_samples, 2), np.float32):\n",
    "        x = xmin + (x_norm * width)\n",
    "        y = ymin + (y_norm * height)\n",
    "        out += is_in_mandelbrot(x, y)\n",
    "    return out"
   ]
  },
  {
   "cell_type": "code",
   "execution_count": null,
   "id": "0ebed67f-53b7-45ac-82a3-1c99b2da4865",
   "metadata": {},
   "outputs": [],
   "source": [
    "# Knill limits\n",
    "xmin, xmax = -2, 1\n",
    "ymin, ymax = -3 / 2, 3 / 2\n",
    "\n",
    "rng = np.random.default_rng()  # can be forked to run multiple rngs in parallel\n",
    "\n",
    "denominator = 100000  # how many random numbers to draw\n",
    "\n",
    "\n",
    "numerator = count_mandelbrot(rng, denominator, xmin, xmax - xmin, ymin, ymax - ymin)\n",
    "\n",
    "# ratio of numbers inside Mandelbrot set times sampling area\n",
    "area = (numerator / denominator) * (xmax - xmin) * (ymax - ymin)\n",
    "area"
   ]
  },
  {
   "cell_type": "code",
   "execution_count": null,
   "id": "258c2ed8-681c-4afc-9db9-0af417851f10",
   "metadata": {},
   "outputs": [],
   "source": [
    "confidence_interval(0.05, numerator, denominator, (xmax - xmin) * (ymax - ymin))"
   ]
  },
  {
   "cell_type": "code",
   "execution_count": null,
   "id": "9e58d4d7-3458-44d4-a09d-24849fc4b2a2",
   "metadata": {},
   "outputs": [],
   "source": [
    "region1 = {\"xmin\": -1.5, \"ymin\": 0.5, \"width\": 0.5, \"height\": 0.5}\n",
    "region2 = {\"xmin\": -0.4, \"ymin\": 0.5, \"width\": 0.5, \"height\": 0.5}\n",
    "region3 = {\"xmin\": -0.4, \"ymin\": -0.25, \"width\": 0.5, \"height\": 0.5}\n",
    "\n",
    "for region in [region1, region2, region3]:\n",
    "    denominator = 10000\n",
    "    numerator = count_mandelbrot(rng, denominator, region[\"xmin\"], region[\"width\"], region[\"ymin\"], region[\"height\"])\n",
    "\n",
    "    low, high = confidence_interval(0.05, numerator, denominator, region[\"width\"] * region[\"height\"])\n",
    "\n",
    "    print(f\"{numerator:5d}/{denominator}  -->  low: {low:8.3g}, high: {high:8.3g}  -->  uncertainty: {high - low:8.3g}\")"
   ]
  },
  {
   "cell_type": "code",
   "execution_count": null,
   "id": "0a323096-7b79-4726-91c1-6008ccd75754",
   "metadata": {},
   "outputs": [],
   "source": [
    "fig, ax, _ = plot_pixels(pixels, dpi=80)\n",
    "\n",
    "ax.add_patch(matplotlib.patches.Rectangle((-1.5, 0.5), 0.5, 0.5, edgecolor=\"red\", facecolor=\"none\"))\n",
    "ax.add_patch(matplotlib.patches.Rectangle((-0.4, 0.5), 0.5, 0.5, edgecolor=\"red\", facecolor=\"none\"))\n",
    "ax.add_patch(matplotlib.patches.Rectangle((-0.4, -0.25), 0.5, 0.5, edgecolor=\"red\", facecolor=\"none\"))\n",
    "\n",
    "None"
   ]
  },
  {
   "cell_type": "code",
   "execution_count": null,
   "id": "a3b3346e-2ec6-469b-919a-4012116ebe09",
   "metadata": {},
   "outputs": [],
   "source": [
    "NUM_TILES_1D = 100\n",
    "\n",
    "numer = np.zeros((NUM_TILES_1D, NUM_TILES_1D), dtype=np.int64)\n",
    "denom = np.zeros((NUM_TILES_1D, NUM_TILES_1D), dtype=np.int64)"
   ]
  },
  {
   "cell_type": "code",
   "execution_count": null,
   "id": "8902e117-6785-414c-bb8c-b4ef271d90a0",
   "metadata": {},
   "outputs": [],
   "source": [
    "width = 3 / NUM_TILES_1D\n",
    "height = 3 / NUM_TILES_1D"
   ]
  },
  {
   "cell_type": "code",
   "execution_count": null,
   "id": "0a0c0cbf-fc53-495d-935e-dccae15e8130",
   "metadata": {},
   "outputs": [],
   "source": [
    "@nb.jit\n",
    "def xmin(j):\n",
    "    return -2 + width * j\n",
    "\n",
    "@nb.jit\n",
    "def ymin(i):\n",
    "    return -3/2 + height * i"
   ]
  },
  {
   "cell_type": "code",
   "execution_count": null,
   "id": "34a8c94b-f577-47f7-931a-6f4399a34762",
   "metadata": {},
   "outputs": [],
   "source": [
    "@nb.jit\n",
    "def compute_sequentially(rng, numer, denom):\n",
    "    \"\"\"Sample 100 points in each tile.\"\"\"\n",
    "    \n",
    "    for i in range(NUM_TILES_1D):\n",
    "        for j in range(NUM_TILES_1D):\n",
    "            denom[i, j] = 100\n",
    "            numer[i, j] = count_mandelbrot(rng, denom[i, j], xmin(j), width, ymin(i), height)\n",
    "\n",
    "compute_sequentially(rng, numer, denom)"
   ]
  },
  {
   "cell_type": "code",
   "execution_count": null,
   "id": "9ecfc07e-2ce9-4b74-a752-7b07a7ee6afb",
   "metadata": {},
   "outputs": [],
   "source": [
    "fig, ax, p = plot_pixels(numer / denom, dpi=80)\n",
    "fig.colorbar(p, ax=ax, shrink=0.8, label=\"fraction of sampled points in Mandelbrot set in each tile\")\n",
    "\n",
    "None"
   ]
  },
  {
   "cell_type": "code",
   "execution_count": null,
   "id": "8b29321a-ade7-48ed-8554-de8fe7e3ccd1",
   "metadata": {},
   "outputs": [],
   "source": [
    "rngs = rng.spawn(NUM_TILES_1D * NUM_TILES_1D)"
   ]
  },
  {
   "cell_type": "code",
   "execution_count": null,
   "id": "7e49440d-c28b-4799-abee-f1d2aebaebac",
   "metadata": {},
   "outputs": [],
   "source": [
    "@nb.jit(parallel=True)\n",
    "def compute_parallel(rngs, numer, denom):\n",
    "    \"\"\"Sample all tiles in parallel with NUM_TILES_1D**2 rngs.\"\"\"\n",
    "    for i in nb.prange(NUM_TILES_1D):\n",
    "        for j in nb.prange(NUM_TILES_1D):\n",
    "            rng = rngs[NUM_TILES_1D * i + j]  # get rng for this tile\n",
    "\n",
    "            denom[i, j] = 100\n",
    "            numer[i, j] = count_mandelbrot(\n",
    "                rng, denom[i, j], xmin(j), width, ymin(i), height\n",
    "            )\n",
    "\n",
    "numer = np.zeros((NUM_TILES_1D, NUM_TILES_1D), dtype=np.int64)\n",
    "denom = np.zeros((NUM_TILES_1D, NUM_TILES_1D), dtype=np.int64)\n",
    "\n",
    "compute_parallel(rngs, numer, denom)"
   ]
  },
  {
   "cell_type": "code",
   "execution_count": null,
   "id": "2ce8e878-e8ff-47a6-b708-eb77ceb14885",
   "metadata": {},
   "outputs": [],
   "source": [
    "(denom == 100).all()"
   ]
  },
  {
   "cell_type": "code",
   "execution_count": null,
   "id": "7e2d5e48-9715-4aa0-976c-3b7fcd01cc12",
   "metadata": {},
   "outputs": [],
   "source": [
    "CONFIDENCE_LEVEL = 0.05\n",
    "\n",
    "confidence_interval_low, confidence_interval_high = confidence_interval(\n",
    "    CONFIDENCE_LEVEL / 2, numer, denom, width * height\n",
    ")"
   ]
  },
  {
   "cell_type": "code",
   "execution_count": null,
   "id": "c91d0093-4b8b-41b2-9256-84146d5d3c68",
   "metadata": {},
   "outputs": [],
   "source": [
    "fig, ax, p = plot_pixels(confidence_interval_high - confidence_interval_low, dpi=80)\n",
    "fig.colorbar(p, ax=ax, shrink=0.8, label=\"size of 95% confidence interval (in units of area) of each tile\")\n",
    "\n",
    "None"
   ]
  },
  {
   "cell_type": "code",
   "execution_count": null,
   "id": "77e03166-433b-469a-946c-6d688de716e4",
   "metadata": {},
   "outputs": [],
   "source": [
    "SAMPLES_IN_BATCH = 100\n",
    "\n",
    "@nb.jit(parallel=True)\n",
    "def compute_until(rngs, numer, denom, uncert, uncert_target):\n",
    "    \"\"\"Compute area of each tile until uncert_target is reached.\n",
    "    The uncertainty is calculate with the Wald approximation in each tile.\n",
    "    \"\"\"\n",
    "    for i in nb.prange(NUM_TILES_1D):\n",
    "        for j in nb.prange(NUM_TILES_1D):\n",
    "            rng = rngs[NUM_TILES_1D * i + j]\n",
    "\n",
    "            uncert[i, j] = np.inf\n",
    "\n",
    "            # Sample SAMPLES_IN_BATCH more points until uncert_target is reached\n",
    "            while uncert[i, j] > uncert_target:\n",
    "                denom[i, j] += SAMPLES_IN_BATCH\n",
    "                numer[i, j] += count_mandelbrot(\n",
    "                    rng, SAMPLES_IN_BATCH, xmin(j), width, ymin(i), height\n",
    "                )\n",
    "\n",
    "                uncert[i, j] = (\n",
    "                    wald_uncertainty(numer[i, j], denom[i, j]) * width * height\n",
    "                )\n",
    "\n",
    "numer = np.zeros((NUM_TILES_1D, NUM_TILES_1D), dtype=np.int64)\n",
    "denom = np.zeros((NUM_TILES_1D, NUM_TILES_1D), dtype=np.int64)\n",
    "uncert = np.zeros((NUM_TILES_1D, NUM_TILES_1D), dtype=np.float64)\n",
    "\n",
    "compute_until(rngs, numer, denom, uncert, 1e-5)"
   ]
  },
  {
   "cell_type": "code",
   "execution_count": null,
   "id": "04767448-1e3a-466f-9d40-26b1b489fecd",
   "metadata": {},
   "outputs": [],
   "source": [
    "fig, ax, p = plot_pixels(uncert, dpi=80)\n",
    "fig.colorbar(p, ax=ax, shrink=0.8, label=\"area uncertainty estimate of each tile\")\n",
    "\n",
    "None"
   ]
  },
  {
   "cell_type": "code",
   "execution_count": null,
   "id": "745f5e40-a852-4438-b1d2-cd2568a8c73d",
   "metadata": {},
   "outputs": [],
   "source": [
    "fig, ax, p = plot_pixels(denom, dpi=80)\n",
    "fig.colorbar(p, ax=ax, shrink=0.8, label=\"number of points sampled each tile\")\n",
    "\n",
    "None"
   ]
  },
  {
   "cell_type": "code",
   "execution_count": null,
   "id": "20d26719-09a0-43fe-8d5a-d1d937e905f3",
   "metadata": {},
   "outputs": [],
   "source": [
    "final_value = (np.sum((numer / denom)) * width * height).item()\n",
    "final_value"
   ]
  },
  {
   "cell_type": "code",
   "execution_count": null,
   "id": "fa82654f-8737-4acb-81f3-fae956fcebea",
   "metadata": {},
   "outputs": [],
   "source": [
    "CONFIDENCE_LEVEL = 0.05\n",
    "\n",
    "confidence_interval_low, confidence_interval_high = confidence_interval(\n",
    "    CONFIDENCE_LEVEL, numer, denom, width * height\n",
    ")\n",
    "\n",
    "final_uncertainty = combine_uncertaintes(\n",
    "    confidence_interval_low, confidence_interval_high, denom\n",
    ")\n",
    "final_uncertainty"
   ]
  },
  {
   "cell_type": "code",
   "execution_count": null,
   "id": "862bb47a-9caa-41cb-a0e3-7f17cebae1d9",
   "metadata": {},
   "outputs": [],
   "source": []
  }
 ],
 "metadata": {
  "kernelspec": {
   "display_name": "Python 3 (ipykernel)",
   "language": "python",
   "name": "python3"
  },
  "language_info": {
   "codemirror_mode": {
    "name": "ipython",
    "version": 3
   },
   "file_extension": ".py",
   "mimetype": "text/x-python",
   "name": "python",
   "nbconvert_exporter": "python",
   "pygments_lexer": "ipython3",
   "version": "3.12.4"
  }
 },
 "nbformat": 4,
 "nbformat_minor": 5
}
